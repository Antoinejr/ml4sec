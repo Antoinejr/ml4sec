{
 "cells": [
  {
   "cell_type": "markdown",
   "metadata": {},
   "source": [
    "# The NetSecure NIDS\n",
    "The startup company NetSecure has been observing the recent hacks on the news. Because they are working on a new product, and they want to protect their intellectual property, they have decided to improve their network security.\n",
    "\t\n",
    "To this end, they want to deploy a Network Intrusion Detection System (NIDS) that analyses all the traffic passing between their internal network and the internet. Unfortunately, all security solutions provided by security companies are too expensive for NetSecure. Therefore they approached you with the assignment of building a NIDS.\n",
    "\n",
    "## Network setup\n",
    "NetSecure is a small company with only 3 employees. All of whom have a single desktop machine which they use for their daily work. Furthermore, the company runs a server which provides various webservices to the internet. Figure 1 gives an overview of the network structure of NetSecure. It also shows where the NIDS will be placed.\n",
    "\n",
    "<img src=\"images/network.png\" width=600>\n",
    "<div align=\"center\">Figure 1. Overview of the network setup of company NetSecure, including the IP addresses of their machines.</div>\n",
    "\n",
    "## Available data\n",
    "In order to train the NIDS that you are creating you are given two datasets of network traffic, both captured at the router as given in Figure 1.\n",
    "\t\n",
    " 1. A dataset of benign traffic.\n",
    " 2. A dataset of unknown traffic.\n",
    "\n",
    "It is up to you to train a machine learning algorithm with the benign traffic. Once you have trained the NIDS, you will test the unknown traffic to determine which parts should be classified as benign and which parts should be classified as malicious.\n",
    "\t\n",
    "The network traffic that is captured is provided as a .csv file of individual TCP and UDP packets. Each packet has the following features:\n",
    "\n",
    " * *timestamp*, indicating at what time the packet was sent.\n",
    " * *protocol*, indicating whether the packet was sent over TCP or UDP.\n",
    " * *src*, the source IP address of the packet.\n",
    " * *sport*, the source port of the packet.\n",
    " * *dst*, the destination IP address of the packet.\n",
    " * *dport*, the destination port of the packet.\n",
    " * *packet size*, indicating the amount of bytes sent in the packet.\n",
    "\n",
    "Furthermore, the dataset of benign traffic also contains labels of the applications that are generating the network traffic.\n",
    "## Anthony Irokosu s2261065\n",
    "\n",
    "## Assignment\n",
    "In this assignment we will walk through all the steps necessary to create a proper NIDS for NetSecure. The first thing we need to do is load the assignment.\n",
    "\n"
   ]
  },
  {
   "cell_type": "code",
   "execution_count": 1,
   "metadata": {},
   "outputs": [],
   "source": [
    "# Imports numpy and pandas libraries\n",
    "import numpy  as np\n",
    "import pandas as pd\n",
    "\n",
    "# Imports assignment from backend\n",
    "from ml4sec import Assignment\n",
    "\n",
    "# Initialises assignment with given files.\n",
    "# HINT: make sure you extract the benign.csv and unknown.csv files in data directory as assignment.ipynb\n",
    "assignment = Assignment(\n",
    "    file_benign  = 'data/benign.csv',\n",
    "    file_unknown = 'data/unknown.csv',\n",
    ")"
   ]
  },
  {
   "cell_type": "markdown",
   "metadata": {},
   "source": [
    "## 1. Feature selection/extraction\n",
    "The network packets in the transport layer (i.e. TCP and UDP packets) all belong to a network flow. Such a flow is given by the 5-tuple (*protocol*, *src*, *sport*, *dst*, *dport*). All of the packets within such a flow belong to the same application. We can leverage this knowledge to group packets together and extract statistical features from them as a group.\n",
    "\n",
    "**Question 1.1.** We can compute some statistical features of each group. These features may give us an advantage in the detection phase of our NIDS. Which statistical features can be computed?\n",
    "\n",
    "*(Hint 1: An example feature could be the maximum length of a packet in a flow.)*\n",
    "\n",
    "*(Hint 2: The timestamp itself does not say much about the origin of a packet, however the frequency (i.e. time between packets) might give us some more information.)*\n",
    "\n",
    "**NB:** in this question it is up to you to determine how many features you want to extract. Keep in mind that this will have influence on the performance of your NIDS so think carefully about the features you could extract."
   ]
  },
  {
   "cell_type": "code",
   "execution_count": null,
   "metadata": {},
   "outputs": [],
   "source": [
    "## I used the mean, the minimum , the maximum and the variance of the frequency of the timestamps and the packet sizes"
   ]
  },
  {
   "cell_type": "markdown",
   "metadata": {},
   "source": [
    "**Question 1.2.** We now want to extract these new features for each flow. To this end, you will implement the function `extract()` which has access to the `protocol`, `src`, `sport`, `dst`, `dport` of a flow, as well as the `timestamps`, and `sizes` for each packet within the flow. Your assignment is to implement `extract` which should return a list of extracted features as described the in previous question. Note that this function is called for each flow. To test your method for X flows, please run the `assignment.test_extract(X)` as described below."
   ]
  },
  {
   "cell_type": "code",
   "execution_count": 9,
   "metadata": {},
   "outputs": [],
   "source": [
    "def extract(protocol, src, sport, dst, dport, timestamps, sizes):\n",
    "    extracted_features = []\n",
    "    #timestamp features\n",
    "    interval_time = []\n",
    "    #get the average interval time\n",
    "    for i in range(len(timestamps) - 1):\n",
    "        interval = abs(timestamps[i+1] - timestamps[i])\n",
    "        interval_time.append(interval)\n",
    "    #mean of intervals \n",
    "    extracted_features.append(np.mean(interval_time)) #add mean interval to feature set\n",
    "    extracted_features.append(np.min(interval_time))  #add the minimum interval time\n",
    "    extracted_features.append(np.max(interval_time))  #add the maximum interval time #add the median interval time\n",
    "    extracted_features.append(np.var(interval_time))  #add the variance of the interval\n",
    "    \n",
    "    #size features\n",
    "    \n",
    "    extracted_features.append(sizes.mean()) #add mean of the size\n",
    "    extracted_features.append(sizes.min()) #add the minimum of the size\n",
    "    extracted_features.append(sizes.max()) #add the maximum value of size\n",
    "    extracted_features.append(np.var(sizes)) #add the variance of the sizes\n",
    "    \n",
    "    \n",
    "    \n",
    "            \n",
    "        \n",
    "    return extracted_features\n",
    "# Set extract method\n",
    "assignment.extract = extract"
   ]
  },
  {
   "cell_type": "markdown",
   "metadata": {},
   "source": [
    "You can use the code below to test your implementation of `extract()` with a given number of flows."
   ]
  },
  {
   "cell_type": "code",
   "execution_count": 10,
   "metadata": {},
   "outputs": [],
   "source": [
    "# Changes the number to test different numbers of flows\n",
    "assignment.test_extract(0)"
   ]
  },
  {
   "cell_type": "markdown",
   "metadata": {},
   "source": [
    "Now that we extracted the features, we represent them in a feature matrix. Each row in this matrix represents a flow and each column represents a feature. Run the code below to show the feature matrix for your feature extraction."
   ]
  },
  {
   "cell_type": "code",
   "execution_count": 11,
   "metadata": {},
   "outputs": [
    {
     "data": {
      "text/html": [
       "<div>\n",
       "<style scoped>\n",
       "    .dataframe tbody tr th:only-of-type {\n",
       "        vertical-align: middle;\n",
       "    }\n",
       "\n",
       "    .dataframe tbody tr th {\n",
       "        vertical-align: top;\n",
       "    }\n",
       "\n",
       "    .dataframe thead th {\n",
       "        text-align: right;\n",
       "    }\n",
       "</style>\n",
       "<table border=\"1\" class=\"dataframe\">\n",
       "  <thead>\n",
       "    <tr style=\"text-align: right;\">\n",
       "      <th></th>\n",
       "      <th>0</th>\n",
       "      <th>1</th>\n",
       "      <th>2</th>\n",
       "      <th>3</th>\n",
       "      <th>4</th>\n",
       "      <th>5</th>\n",
       "      <th>6</th>\n",
       "      <th>7</th>\n",
       "    </tr>\n",
       "  </thead>\n",
       "  <tbody>\n",
       "    <tr>\n",
       "      <th>0</th>\n",
       "      <td>2.017519</td>\n",
       "      <td>1.815252</td>\n",
       "      <td>2.183502</td>\n",
       "      <td>0.006899</td>\n",
       "      <td>777.489796</td>\n",
       "      <td>664.0</td>\n",
       "      <td>867.0</td>\n",
       "      <td>2106.658059</td>\n",
       "    </tr>\n",
       "    <tr>\n",
       "      <th>1</th>\n",
       "      <td>2.022434</td>\n",
       "      <td>1.815907</td>\n",
       "      <td>2.247271</td>\n",
       "      <td>0.011659</td>\n",
       "      <td>790.458333</td>\n",
       "      <td>702.0</td>\n",
       "      <td>906.0</td>\n",
       "      <td>1947.331597</td>\n",
       "    </tr>\n",
       "    <tr>\n",
       "      <th>2</th>\n",
       "      <td>0.982999</td>\n",
       "      <td>0.795367</td>\n",
       "      <td>1.260010</td>\n",
       "      <td>0.009894</td>\n",
       "      <td>617.465116</td>\n",
       "      <td>483.0</td>\n",
       "      <td>799.0</td>\n",
       "      <td>6237.365062</td>\n",
       "    </tr>\n",
       "    <tr>\n",
       "      <th>3</th>\n",
       "      <td>2.008661</td>\n",
       "      <td>1.786514</td>\n",
       "      <td>2.232194</td>\n",
       "      <td>0.012310</td>\n",
       "      <td>1158.833333</td>\n",
       "      <td>1129.0</td>\n",
       "      <td>1187.0</td>\n",
       "      <td>122.615079</td>\n",
       "    </tr>\n",
       "    <tr>\n",
       "      <th>4</th>\n",
       "      <td>2.013165</td>\n",
       "      <td>1.759076</td>\n",
       "      <td>2.276765</td>\n",
       "      <td>0.011227</td>\n",
       "      <td>1164.767442</td>\n",
       "      <td>1134.0</td>\n",
       "      <td>1194.0</td>\n",
       "      <td>177.992428</td>\n",
       "    </tr>\n",
       "    <tr>\n",
       "      <th>...</th>\n",
       "      <td>...</td>\n",
       "      <td>...</td>\n",
       "      <td>...</td>\n",
       "      <td>...</td>\n",
       "      <td>...</td>\n",
       "      <td>...</td>\n",
       "      <td>...</td>\n",
       "      <td>...</td>\n",
       "    </tr>\n",
       "    <tr>\n",
       "      <th>12584</th>\n",
       "      <td>1.004994</td>\n",
       "      <td>0.827151</td>\n",
       "      <td>1.196490</td>\n",
       "      <td>0.008670</td>\n",
       "      <td>996.621622</td>\n",
       "      <td>838.0</td>\n",
       "      <td>1151.0</td>\n",
       "      <td>4522.397370</td>\n",
       "    </tr>\n",
       "    <tr>\n",
       "      <th>12585</th>\n",
       "      <td>1.014599</td>\n",
       "      <td>0.814481</td>\n",
       "      <td>1.211509</td>\n",
       "      <td>0.008589</td>\n",
       "      <td>993.756757</td>\n",
       "      <td>801.0</td>\n",
       "      <td>1156.0</td>\n",
       "      <td>6719.805698</td>\n",
       "    </tr>\n",
       "    <tr>\n",
       "      <th>12586</th>\n",
       "      <td>0.997396</td>\n",
       "      <td>0.803255</td>\n",
       "      <td>1.258667</td>\n",
       "      <td>0.011758</td>\n",
       "      <td>998.200000</td>\n",
       "      <td>891.0</td>\n",
       "      <td>1199.0</td>\n",
       "      <td>4165.460000</td>\n",
       "    </tr>\n",
       "    <tr>\n",
       "      <th>12587</th>\n",
       "      <td>1.018561</td>\n",
       "      <td>0.814956</td>\n",
       "      <td>1.231149</td>\n",
       "      <td>0.010972</td>\n",
       "      <td>996.743590</td>\n",
       "      <td>831.0</td>\n",
       "      <td>1123.0</td>\n",
       "      <td>4833.575279</td>\n",
       "    </tr>\n",
       "    <tr>\n",
       "      <th>12588</th>\n",
       "      <td>0.993915</td>\n",
       "      <td>0.763526</td>\n",
       "      <td>1.236348</td>\n",
       "      <td>0.007515</td>\n",
       "      <td>990.431818</td>\n",
       "      <td>863.0</td>\n",
       "      <td>1136.0</td>\n",
       "      <td>4391.290806</td>\n",
       "    </tr>\n",
       "  </tbody>\n",
       "</table>\n",
       "<p>12589 rows × 8 columns</p>\n",
       "</div>"
      ],
      "text/plain": [
       "              0         1         2         3            4       5       6  \\\n",
       "0      2.017519  1.815252  2.183502  0.006899   777.489796   664.0   867.0   \n",
       "1      2.022434  1.815907  2.247271  0.011659   790.458333   702.0   906.0   \n",
       "2      0.982999  0.795367  1.260010  0.009894   617.465116   483.0   799.0   \n",
       "3      2.008661  1.786514  2.232194  0.012310  1158.833333  1129.0  1187.0   \n",
       "4      2.013165  1.759076  2.276765  0.011227  1164.767442  1134.0  1194.0   \n",
       "...         ...       ...       ...       ...          ...     ...     ...   \n",
       "12584  1.004994  0.827151  1.196490  0.008670   996.621622   838.0  1151.0   \n",
       "12585  1.014599  0.814481  1.211509  0.008589   993.756757   801.0  1156.0   \n",
       "12586  0.997396  0.803255  1.258667  0.011758   998.200000   891.0  1199.0   \n",
       "12587  1.018561  0.814956  1.231149  0.010972   996.743590   831.0  1123.0   \n",
       "12588  0.993915  0.763526  1.236348  0.007515   990.431818   863.0  1136.0   \n",
       "\n",
       "                 7  \n",
       "0      2106.658059  \n",
       "1      1947.331597  \n",
       "2      6237.365062  \n",
       "3       122.615079  \n",
       "4       177.992428  \n",
       "...            ...  \n",
       "12584  4522.397370  \n",
       "12585  6719.805698  \n",
       "12586  4165.460000  \n",
       "12587  4833.575279  \n",
       "12588  4391.290806  \n",
       "\n",
       "[12589 rows x 8 columns]"
      ]
     },
     "execution_count": 11,
     "metadata": {},
     "output_type": "execute_result"
    }
   ],
   "source": [
    "# Shows feature matrix\n",
    "assignment.show_matrix()"
   ]
  },
  {
   "cell_type": "markdown",
   "metadata": {},
   "source": [
    "## 2. Data Preprocessing\n",
    "The data that we have stored is composed of different features. All these features are stored within a range of values. For example, the length of a packet is limited by the Maximum Transmission Unit (MTU), which by default is 1500 bytes giving this feature a range of [0, 1500]. Conversely, we may observe from the data that the average time between packets is in the range [0, 10] seconds. When a machine learning algorithm tries to compare two datapoints, it will put a much greater weight to the feature with range [0, 1500] than the feature with range [0, 10] because the absolute differences are much larger. Instead, we would like to compare the relative distances for each feature. To this end, we apply a technique called `scaling`.\n",
    "\n",
    "There are many different scaling techniques, but for the purpose of creating a NIDS, we will use min-max scaling. This scaling technique scales the original values in such a way that the minimum value for each feature is mapped to 0, and the maximum value for each feature is mapped to 1. The relative distance between each values is preserved. The formula for calculating the new value `z_i` of feature $x_i$ from feature $X$ is given as\n",
    "\n",
    "$$z_i = \\frac{x_i - \\min{(X)}}{\\max{(X)} - \\min{(X)}}.$$\n",
    "\n",
    "**Question 2.1.** Implement the `scale` function using the given formula. First compute the minimum and maximum values for each column from the matrix. Next use these values to scale the matrix.\n",
    "\n",
    "_Important: The method should return the scaled matrix, computed minimum, and computed maximum values for the given matrix._"
   ]
  },
  {
   "cell_type": "code",
   "execution_count": 12,
   "metadata": {},
   "outputs": [],
   "source": [
    "def scale(matrix, minimum=None, maximum=None):\n",
    "    mini = minimum\n",
    "    maxi = maximum\n",
    "    # If minimum value is not given, compute the minimum for each feature\n",
    "    if minimum is None:\n",
    "        mini = np.amin(matrix, axis = 0)\n",
    "        \n",
    "    # If maximum value is not given, compute the maximum for each feature\n",
    "    if maximum is None:\n",
    "        maxi = np.amax(matrix, axis = 0)\n",
    "        \n",
    "    # Use the minimum and maximum to compute the scaled matrix\n",
    "    scaledMatrix = matrix.copy()\n",
    "    for m in range(scaledMatrix.shape[0]):\n",
    "        for n in range(scaledMatrix.shape[1]):\n",
    "            scaledMatrix[m][n] = (matrix[m][n] - mini[n]) /(maxi[n] - mini[n])\n",
    "            \n",
    "    return scaledMatrix,mini,maxi\n",
    "# Sets scale method\n",
    "assignment.scale = scale"
   ]
  },
  {
   "cell_type": "markdown",
   "metadata": {},
   "source": [
    "Run the code below to show the scaled feature matrix produced by your scale function. All values should be between 0 and 1.\n",
    "\n",
    "_Hint: If your matrix shows NaN values, this likely means that there was a divide by 0 error. This happens if you have features that are all the same. If this is the case for you, please revisit your_ `extract()` _function and check which feature produces values that are all the same._"
   ]
  },
  {
   "cell_type": "code",
   "execution_count": 15,
   "metadata": {},
   "outputs": [
    {
     "data": {
      "text/html": [
       "<div>\n",
       "<style scoped>\n",
       "    .dataframe tbody tr th:only-of-type {\n",
       "        vertical-align: middle;\n",
       "    }\n",
       "\n",
       "    .dataframe tbody tr th {\n",
       "        vertical-align: top;\n",
       "    }\n",
       "\n",
       "    .dataframe thead th {\n",
       "        text-align: right;\n",
       "    }\n",
       "</style>\n",
       "<table border=\"1\" class=\"dataframe\">\n",
       "  <thead>\n",
       "    <tr style=\"text-align: right;\">\n",
       "      <th></th>\n",
       "      <th>0</th>\n",
       "      <th>1</th>\n",
       "      <th>2</th>\n",
       "      <th>3</th>\n",
       "      <th>4</th>\n",
       "      <th>5</th>\n",
       "      <th>6</th>\n",
       "      <th>7</th>\n",
       "    </tr>\n",
       "  </thead>\n",
       "  <tbody>\n",
       "    <tr>\n",
       "      <th>0</th>\n",
       "      <td>0.002711</td>\n",
       "      <td>0.939228</td>\n",
       "      <td>0.000029</td>\n",
       "      <td>1.959397e-10</td>\n",
       "      <td>0.408384</td>\n",
       "      <td>0.497797</td>\n",
       "      <td>0.316279</td>\n",
       "      <td>0.132313</td>\n",
       "    </tr>\n",
       "    <tr>\n",
       "      <th>1</th>\n",
       "      <td>0.002723</td>\n",
       "      <td>0.939714</td>\n",
       "      <td>0.000031</td>\n",
       "      <td>5.207333e-10</td>\n",
       "      <td>0.424066</td>\n",
       "      <td>0.531278</td>\n",
       "      <td>0.361628</td>\n",
       "      <td>0.122005</td>\n",
       "    </tr>\n",
       "    <tr>\n",
       "      <th>2</th>\n",
       "      <td>0.000126</td>\n",
       "      <td>0.182217</td>\n",
       "      <td>0.000004</td>\n",
       "      <td>4.003142e-10</td>\n",
       "      <td>0.214876</td>\n",
       "      <td>0.338326</td>\n",
       "      <td>0.237209</td>\n",
       "      <td>0.399550</td>\n",
       "    </tr>\n",
       "    <tr>\n",
       "      <th>3</th>\n",
       "      <td>0.002688</td>\n",
       "      <td>0.917897</td>\n",
       "      <td>0.000031</td>\n",
       "      <td>5.651562e-10</td>\n",
       "      <td>0.869521</td>\n",
       "      <td>0.907489</td>\n",
       "      <td>0.688372</td>\n",
       "      <td>0.003954</td>\n",
       "    </tr>\n",
       "    <tr>\n",
       "      <th>4</th>\n",
       "      <td>0.002700</td>\n",
       "      <td>0.897532</td>\n",
       "      <td>0.000032</td>\n",
       "      <td>4.912521e-10</td>\n",
       "      <td>0.876697</td>\n",
       "      <td>0.911894</td>\n",
       "      <td>0.696512</td>\n",
       "      <td>0.007537</td>\n",
       "    </tr>\n",
       "    <tr>\n",
       "      <th>...</th>\n",
       "      <td>...</td>\n",
       "      <td>...</td>\n",
       "      <td>...</td>\n",
       "      <td>...</td>\n",
       "      <td>...</td>\n",
       "      <td>...</td>\n",
       "      <td>...</td>\n",
       "      <td>...</td>\n",
       "    </tr>\n",
       "    <tr>\n",
       "      <th>12584</th>\n",
       "      <td>0.000181</td>\n",
       "      <td>0.205809</td>\n",
       "      <td>0.000003</td>\n",
       "      <td>3.167661e-10</td>\n",
       "      <td>0.673368</td>\n",
       "      <td>0.651101</td>\n",
       "      <td>0.646512</td>\n",
       "      <td>0.288600</td>\n",
       "    </tr>\n",
       "    <tr>\n",
       "      <th>12585</th>\n",
       "      <td>0.000205</td>\n",
       "      <td>0.196405</td>\n",
       "      <td>0.000003</td>\n",
       "      <td>3.112631e-10</td>\n",
       "      <td>0.669903</td>\n",
       "      <td>0.618502</td>\n",
       "      <td>0.652326</td>\n",
       "      <td>0.430762</td>\n",
       "    </tr>\n",
       "    <tr>\n",
       "      <th>12586</th>\n",
       "      <td>0.000162</td>\n",
       "      <td>0.188072</td>\n",
       "      <td>0.000004</td>\n",
       "      <td>5.274452e-10</td>\n",
       "      <td>0.675276</td>\n",
       "      <td>0.697797</td>\n",
       "      <td>0.702326</td>\n",
       "      <td>0.265507</td>\n",
       "    </tr>\n",
       "    <tr>\n",
       "      <th>12587</th>\n",
       "      <td>0.000214</td>\n",
       "      <td>0.196757</td>\n",
       "      <td>0.000004</td>\n",
       "      <td>4.738382e-10</td>\n",
       "      <td>0.673515</td>\n",
       "      <td>0.644934</td>\n",
       "      <td>0.613953</td>\n",
       "      <td>0.308731</td>\n",
       "    </tr>\n",
       "    <tr>\n",
       "      <th>12588</th>\n",
       "      <td>0.000153</td>\n",
       "      <td>0.158583</td>\n",
       "      <td>0.000004</td>\n",
       "      <td>2.379644e-10</td>\n",
       "      <td>0.665883</td>\n",
       "      <td>0.673128</td>\n",
       "      <td>0.629070</td>\n",
       "      <td>0.280118</td>\n",
       "    </tr>\n",
       "  </tbody>\n",
       "</table>\n",
       "<p>12589 rows × 8 columns</p>\n",
       "</div>"
      ],
      "text/plain": [
       "              0         1         2             3         4         5  \\\n",
       "0      0.002711  0.939228  0.000029  1.959397e-10  0.408384  0.497797   \n",
       "1      0.002723  0.939714  0.000031  5.207333e-10  0.424066  0.531278   \n",
       "2      0.000126  0.182217  0.000004  4.003142e-10  0.214876  0.338326   \n",
       "3      0.002688  0.917897  0.000031  5.651562e-10  0.869521  0.907489   \n",
       "4      0.002700  0.897532  0.000032  4.912521e-10  0.876697  0.911894   \n",
       "...         ...       ...       ...           ...       ...       ...   \n",
       "12584  0.000181  0.205809  0.000003  3.167661e-10  0.673368  0.651101   \n",
       "12585  0.000205  0.196405  0.000003  3.112631e-10  0.669903  0.618502   \n",
       "12586  0.000162  0.188072  0.000004  5.274452e-10  0.675276  0.697797   \n",
       "12587  0.000214  0.196757  0.000004  4.738382e-10  0.673515  0.644934   \n",
       "12588  0.000153  0.158583  0.000004  2.379644e-10  0.665883  0.673128   \n",
       "\n",
       "              6         7  \n",
       "0      0.316279  0.132313  \n",
       "1      0.361628  0.122005  \n",
       "2      0.237209  0.399550  \n",
       "3      0.688372  0.003954  \n",
       "4      0.696512  0.007537  \n",
       "...         ...       ...  \n",
       "12584  0.646512  0.288600  \n",
       "12585  0.652326  0.430762  \n",
       "12586  0.702326  0.265507  \n",
       "12587  0.613953  0.308731  \n",
       "12588  0.629070  0.280118  \n",
       "\n",
       "[12589 rows x 8 columns]"
      ]
     },
     "execution_count": 15,
     "metadata": {},
     "output_type": "execute_result"
    }
   ],
   "source": [
    "# Show scaled feature matrix\n",
    "assignment.show_scaled()"
   ]
  },
  {
   "cell_type": "markdown",
   "metadata": {},
   "source": [
    "Running the function below plots the benign and unknown data in both unscaled and scaled form.\n",
    "\n",
    "**NB**: The plot shows the features of each flow compressed to a 2D space using [PCA](https://en.wikipedia.org/wiki/Principal_component_analysis). Therefore, if you have more than 2 features, these plots will show all the features \"compressed\" into a 2D mapping."
   ]
  },
  {
   "cell_type": "code",
   "execution_count": 16,
   "metadata": {},
   "outputs": [
    {
     "data": {
      "image/png": "[encoded data removed]",
      "text/plain": [
       "<Figure size 864x576 with 4 Axes>"
      ]
     },
     "metadata": {
      "needs_background": "light"
     },
     "output_type": "display_data"
    }
   ],
   "source": [
    "# Plots unscaled and scaled features\n",
    "assignment.plot_scaled()"
   ]
  },
  {
   "cell_type": "markdown",
   "metadata": {},
   "source": [
    "**Question 2.2.** Look at the above plots, the left plots show the unscaled features and the right plots show the scaled features. As we can see, the scaled features are separated better then the unscaled features. However, are all applications seperated properly? If you see some overlap, is this something you could explain or do you need to choose different features?\n",
    "\n",
    "**NB:** Note that some overlap might be caused by the dimentionality reduction from the PCA in the plotting method. However, this will very likely result in clusters being very close together, but will likely not result in a *complete* overlap."
   ]
  },
  {
   "cell_type": "code",
   "execution_count": null,
   "metadata": {},
   "outputs": [],
   "source": [
    "## the application that overlap share very similar values for the features extracted"
   ]
  },
  {
   "cell_type": "markdown",
   "metadata": {},
   "source": [
    "## 3. Model/Parameter selection\n",
    "Currently we have a scaled matrix where each row contains a data sample, and each column a feature. Now that we have prepared the features that we feed into our NIDS, we have to choose an anomaly detection algorithm to observe new behaviour. Given that we only have access to benign data and unknown data, we cannot train a classifier. Therefore, we need to train a novelty/outlier detection algorithm. In this assignment we will use a One-Class SVM.\n",
    "\n",
    "As you have learned during the lecture, a One-Class SVM uses a kernel function K to define the geometric relationship between a feature vector X and the support vectors Y. For an RBF (Gaussian) kernel, this relationship is defined as:\n",
    "\n",
    "$$K(X, Y) = e^{-\\frac{||x - y||^2}{2\\sigma^2}}$$\n",
    "\n",
    "**Question 3.1.** Implement the RBF kernel function."
   ]
  },
  {
   "cell_type": "code",
   "execution_count": 17,
   "metadata": {},
   "outputs": [],
   "source": [
    "def K(X, Y, sigma=1):\n",
    "    k = np.exp(np.divide(-np.linalg.norm(X-Y)**2,2*((sigma)**2))) \n",
    "    return k"
   ]
  },
  {
   "cell_type": "markdown",
   "metadata": {},
   "source": [
    "A support vector machine (SVM) uses its kernel function to compute a score between a feature vector $X$ and support vector $Y$. You can think of the score as the likelihood **(note that it is not a probability)** that $X$ and $Y$ originate from the same underlying distribution. Because an SVM contains multiple support vectors $Y_i$, we can assign a score to feature vector $X$ based on the likelihood that it shares the same underlying distribution with any of our support vectors $Y_i \\in Y$. We compute this overall score by simply adding the (weighted) scores for $X$ with each support vector $Y_i$, which is called the soft score:\n",
    "\n",
    "$$\\text{soft score} = \\sum_{i=0}^N w_iK(X, Y_i) \\leq \\tau$$\n",
    "\n",
    "We compare this soft score with a threshold $\\tau$ to determine if a point falls within or outside of our model. The assignment automatically computes the soft score with all weights as 1 for all given points $X$, support vectors $Y$ and your implemented kernel $K$.\n",
    "\n",
    "We show the influence of different kernel values on the decision function for random support vectors and datapoints. All datapoints that appear in the red area are considered to fall within the soft hypersphere. All datapoints outside the area are considered anomalous. We see that the sigma changes the shape of the hypershpere and the threshold changes the volume while preserving the shape."
   ]
  },
  {
   "cell_type": "code",
   "execution_count": 18,
   "metadata": {},
   "outputs": [
    {
     "data": {
      "image/png": "[encoded data removed]",
      "text/plain": [
       "<Figure size 1080x720 with 9 Axes>"
      ]
     },
     "metadata": {
      "needs_background": "light"
     },
     "output_type": "display_data"
    }
   ],
   "source": [
    "# Plots random kernels and shows the spheres produced by your kernel\n",
    "assignment.plot_kernels(K, sigmas=[1, 2, 3], thresholds=[3, 2, 1])"
   ]
  },
  {
   "cell_type": "markdown",
   "metadata": {},
   "source": [
    "Later in this assignment, we will use the `OneClassSVM` implementation from the `scikit-learn` library. This implementation automatically choses optimal values for the weights $w_i$ and threshold $\\tau$. However, we can still set two values to influence this decision: `gamma` and `nu`. The `gamma` value determines the size of the kernel, similar to the value of $\\sigma$. Additionally, the `nu` value sets an upper bound on the fraction of training errors and a lower bound of the fraction of support vectors. We recall from the lecture that we want to minimize the threshold $\\tau$. The `nu` value allows us to adjust the number of support vectors as well as set the allowed number of errors the OneClassSVM can make during training while keeping the $\\tau$ value minimal."
   ]
  },
  {
   "cell_type": "markdown",
   "metadata": {},
   "source": [
    "## 4. Evaluation\n",
    "\n",
    "Now that we have taken a closer look at One-Class SVMs, we have to think about how we can train, test and evaluate the model. We do this to get an idea of how well the NIDS will perform in a real-world scenario, which allows us to optimise its parameters before deployment and classification of the unknown data. In order to evaluate our model, we require labelled data, i.e. data from the `benign.csv` file. Given that all data is benign, it might seem difficult to assess whether there are malicious network connections. However, we can think of ways to redefine our problem such that we can only use benign data in order to train and test the NIDS.\n",
    "\n",
    "All data in the `benign.csv` file is labelled with the corresponding application that produced the data. We know that a malicious program is just another application that we have not seen in our benign data. We will leverage this observation to train and test our model.\n",
    "\n",
    "To this end, we randomly select a couple of applications that we leave out of the training data and only use for the test dataset. These applications simulate the 'unknown' apps or malware that we might encounter in the `unknown.csv` dataset. All other applications will be present in both the train and test set. However, for these applications, we still need to select a portion of the data that we use in the test set, and a portion of the data that we use in the train set. We can define this portion with a `ratio`.\n",
    "\n",
    "As an example, consider a dataset of 5 applications: $Apps = [\\text{Firefox}, \\text{Word}, \\text{Git}, \\text{Excel}, \\text{Outlook}]$. Now we randomly select $[\\text{Firefox}, \\text{Excel}]$ to be our apps for the testing set, meaning $[\\text{Word}, \\text{Git}, \\text{Outlook}]$ are the apps present in both the train and test datasets. Next we define our `ratio` for training items as `0.75`. This means that we select 75% of the flows from $[\\text{Word}, \\text{Git}, \\text{Outlook}]$ as our train data and add the remaining 25% of flows to the test dataset.\n",
    "\n",
    "_Hint: we round the ratio if it does not split properly_\n",
    "\n",
    "Therefore, if we have the following input:\n",
    "\n",
    "**Apps train:** $[\\text{Word}, \\text{Git}, \\text{Outlook}]$ <br>\n",
    "**Apps test:** $[\\text{Firefox}, \\text{Excel}]$ <br>\n",
    "**Ratio:** 0.75 <br>\n",
    "\n",
    "We will get the following split:\n",
    "\n",
    "<div style=\"-webkit-column-count: 3; -moz-column-count: 3; column-count: 3; -webkit-column-rule: 1px dotted #e0e0e0; -moz-column-rule: 1px dotted #e0e0e0; column-rule: 1px dotted #e0e0e0; text-align: center;\">\n",
    "    <div style=\"display: inline-block;\">\n",
    "<h3 style=\"text-align: center;\">&nbsp;&nbsp;&nbsp;&nbsp;&nbsp;&nbsp;&nbsp;&nbsp;Original data and Labels</h3>\n",
    "        \n",
    "|  Label  | feature 1 | feature 2 | ... | feature n |\n",
    "|:-------:|:---------:|:---------:|:---:|:---------:|\n",
    "| Firefox | value     | value     | ... | value     |\n",
    "| Firefox | value     | value     | ... | value     |\n",
    "| Word    | value     | value     | ... | value     |\n",
    "| Word    | value     | value     | ... | value     |\n",
    "| Word    | value     | value     | ... | value     |\n",
    "| Git     | value     | value     | ... | value     |\n",
    "| Git     | value     | value     | ... | value     |\n",
    "| Excel   | value     | value     | ... | value     |\n",
    "| Excel   | value     | value     | ... | value     |\n",
    "| Excel   | value     | value     | ... | value     |\n",
    "| Excel   | value     | value     | ... | value     |\n",
    "| Outlook | value     | value     | ... | value     |\n",
    "| Outlook | value     | value     | ... | value     |\n",
    "| Outlook | value     | value     | ... | value     |\n",
    "| Outlook | value     | value     | ... | value     |\n",
    "         \n",
    "</div>\n",
    "<div style=\"display: inline-block;\">\n",
    "<h3 style=\"text-align: center;\">&nbsp;&nbsp;&nbsp;&nbsp;&nbsp;&nbsp;&nbsp;&nbsp;Train set</h3>\n",
    "        \n",
    "|  Label  | feature 1 | feature 2 | ... | feature n |\n",
    "|:-------:|:---------:|:---------:|:---:|:---------:|\n",
    "| Word    | value     | value     | ... | value     |\n",
    "| Word    | value     | value     | ... | value     |\n",
    "| Git     | value     | value     | ... | value     |\n",
    "| Outlook | value     | value     | ... | value     |\n",
    "| Outlook | value     | value     | ... | value     |\n",
    "| Outlook | value     | value     | ... | value     |\n",
    "        \n",
    "</div>\n",
    "<div style=\"display: inline-block;\">\n",
    "<h3 style=\"text-align: center;\">&nbsp;&nbsp;&nbsp;&nbsp;&nbsp;&nbsp;&nbsp;&nbsp;Test set</h3>\n",
    "\n",
    "|  Label  | feature 1 | feature 2 | ... | feature n |\n",
    "|:-------:|:---------:|:---------:|:---:|:---------:|\n",
    "| Firefox | value     | value     | ... | value     |\n",
    "| Firefox | value     | value     | ... | value     |\n",
    "| Word    | value     | value     | ... | value     |\n",
    "| Git     | value     | value     | ... | value     |\n",
    "| Excel   | value     | value     | ... | value     |\n",
    "| Excel   | value     | value     | ... | value     |\n",
    "| Excel   | value     | value     | ... | value     |\n",
    "| Excel   | value     | value     | ... | value     |\n",
    "| Outlook | value     | value     | ... | value     |\n",
    "        \n",
    "</div>\n",
    "</div>\n",
    "\n",
    "**Question 4.1.** Implement the function `split()` that implements the split technique described above."
   ]
  },
  {
   "cell_type": "code",
   "execution_count": 19,
   "metadata": {},
   "outputs": [],
   "source": [
    "def split(data, labels, apps_train, apps_test, ratio):\n",
    "    training_data = []\n",
    "    training_label = []\n",
    "    testing_data = []\n",
    "    testing_label = []\n",
    "    comp_train_data = []\n",
    "    comp_train_label = []\n",
    "    \n",
    "    #create training data\n",
    "    for i in range(len(labels)):\n",
    "        if(labels[i] in apps_train):\n",
    "            training_data.append(data[i])\n",
    "            training_label.append(labels[i])\n",
    "    \n",
    "    #create testing data\n",
    "    for i in range(len(labels)):\n",
    "        if(labels[i] in apps_test):\n",
    "            testing_data.append(data[i])\n",
    "            testing_label.append(labels[i])\n",
    "    \n",
    "    #split training data\n",
    "    index = int(round(ratio*len(training_data)))\n",
    "    comp_train_data = training_data[:index]\n",
    "    comp_train_label =  training_label[:index] \n",
    "    testing_data.extend(training_data[index:])\n",
    "    testing_label.extend(training_label[index:])\n",
    "\n",
    "    \n",
    "    return comp_train_data,comp_train_label, testing_data, testing_label\n",
    "    \n",
    "# Sets split method\n",
    "assignment.split = split"
   ]
  },
  {
   "cell_type": "markdown",
   "metadata": {},
   "source": [
    "You can use the code below to test your implementation of `split()` for several test cases, set variable `verbose = True` to print each test case."
   ]
  },
  {
   "cell_type": "code",
   "execution_count": 20,
   "metadata": {},
   "outputs": [
    {
     "name": "stdout",
     "output_type": "stream",
     "text": [
      "All test cases passed.\n"
     ]
    }
   ],
   "source": [
    "# Tests split method\n",
    "assignment.test_split(verbose=False)"
   ]
  },
  {
   "cell_type": "markdown",
   "metadata": {},
   "source": [
    "The following code uses your `split()` method to obtain the train and test split for the data in `benign.csv`.\n",
    "\n",
    "**Important**: Note that the labels for this split are integers that are `+1` if the corresponding application is in the training data or `-1` if the corresponding application is not in the training data. We will use this to determine whether our NIDS can correctly determine whether apps are present in the training set (`+1`, benign) or whether they are not present in the training set (`-1`, malicious)."
   ]
  },
  {
   "cell_type": "code",
   "execution_count": 21,
   "metadata": {},
   "outputs": [
    {
     "name": "stdout",
     "output_type": "stream",
     "text": [
      "\n",
      "Your data is structured as follows:\n",
      "-----------------------------------\n",
      "Train data   (X_train): np.array of shape=(7198, 8)\n",
      "Train labels (y_train): np.array of shape=(7198,)\n",
      "Test  data   (X_test ): np.array of shape=(5391, 8)\n",
      "Test  labels (y_test ): np.array of shape=(5391,)\n",
      "\n"
     ]
    }
   ],
   "source": [
    "# Gets training and testing data\n",
    "X_train, y_train, X_test, y_test = assignment.get_split(\n",
    "    \n",
    "        # Select the apps used for training, the rest will be used for testing\n",
    "        apps_train = [\n",
    "            'IntelliJ',\n",
    "            'PowerPoint',\n",
    "            'Thunderbird',\n",
    "            'Web Server',\n",
    "            'Chrome',\n",
    "            'Word',\n",
    "            'Mail Server',\n",
    "            'Anti Virus',\n",
    "            'Outlook',\n",
    "            'DNS Server',\n",
    "        ],\n",
    "    \n",
    "    \n",
    "        # Select the ratio of flows from training apps used for training\n",
    "        ratio     = 0.75,\n",
    ")\n",
    "\n",
    "# Prints overview of data\n",
    "print(\n",
    "\"\"\"\n",
    "Your data is structured as follows:\n",
    "-----------------------------------\n",
    "Train data   (X_train): np.array of shape={}\n",
    "Train labels (y_train): np.array of shape={}\n",
    "Test  data   (X_test ): np.array of shape={}\n",
    "Test  labels (y_test ): np.array of shape={}\n",
    "\"\"\".format(X_train.shape, y_train.shape, X_test.shape, y_test.shape)\n",
    ")"
   ]
  },
  {
   "cell_type": "markdown",
   "metadata": {},
   "source": [
    "Now that we have split our data into training and testing sets with the corresponding labels, we want to compute some metrics over a prediction. We recall from the lecture that most metrics are based on the True Positive (TP), False Positive (FP), True Negative (TN) and False Negative values (FN).\n",
    "\n",
    " * True Positives (TP), the amount of samples predicted as *unknown* (-1), that should be labelled as *unknown* (-1).\n",
    " * True Negatives (TN), the amount of samples predicted as *known* (+1), that should be labelled as *known* (+1).\n",
    " * False Positives (FP), the amount of samples predicted as *unknown* (-1), that should be labelled as *known* (+1).\n",
    " * False Negatives (FN), the amount of samples predicted as *known* (+1), that should be labelled as *unknown* (-1).\n",
    " \n",
    "Or in a diagram:\n",
    "\n",
    "| $ $                | Actual Unknown      | Actual Known        |\n",
    "|--------------------|---------------------|---------------------|\n",
    "| Predicted Unknown  | True Positive (TP)  | False Positive (FP) |\n",
    "| Predicted Known    | False Negative (FN) | True Negative (TN)  |\n",
    "\n",
    "**Question 4.2.** Given these definitions of TP, TN, FP, FN, implement the methods that compute each value given the predictions (`y_pred`) and actual labels (`y_true`)."
   ]
  },
  {
   "cell_type": "code",
   "execution_count": 22,
   "metadata": {},
   "outputs": [],
   "source": [
    "def TP(y_true, y_pred):\n",
    "    count  = 0\n",
    "    for i in range(len(y_true)):\n",
    "        if(y_pred[i] == -1 and y_pred[i] == y_true[i]):\n",
    "            count += 1  \n",
    "    return count\n",
    "    \n",
    "def TN(y_true, y_pred):\n",
    "    count  = 0\n",
    "    for i in range(len(y_true)):\n",
    "        if(y_pred[i] == 1 and y_pred[i] == y_true[i]):\n",
    "            count += 1  \n",
    "    return count\n",
    "    \n",
    "    \n",
    "def FP(y_true, y_pred):\n",
    "    count  = 0\n",
    "    for i in range(len(y_true)):\n",
    "        if(y_pred[i] == -1 and y_true[i] == 1):\n",
    "            count += 1  \n",
    "    return count\n",
    "    \n",
    "def FN(y_true, y_pred):\n",
    "    count  = 0\n",
    "    for i in range(len(y_true)):\n",
    "        if(y_pred[i] == +1 and y_true[i] == -1):\n",
    "            count += 1  \n",
    "    return count\n",
    "    \n",
    "    \n",
    "# Sets True/False Positive/Negative methods\n",
    "assignment.TP = TP\n",
    "assignment.TN = TN\n",
    "assignment.FP = FP\n",
    "assignment.FN = FN"
   ]
  },
  {
   "cell_type": "markdown",
   "metadata": {},
   "source": [
    "You can use the code below to test your implementations for the True/False Positive/Negative values for several test cases, set variable `verbose = True` to print each test case."
   ]
  },
  {
   "cell_type": "code",
   "execution_count": 23,
   "metadata": {},
   "outputs": [
    {
     "name": "stdout",
     "output_type": "stream",
     "text": [
      "All test cases passed.\n"
     ]
    }
   ],
   "source": [
    "# Tests your implementation of True/False Positive/Negative values\n",
    "assignment.test_metrics(verbose=False)"
   ]
  },
  {
   "cell_type": "markdown",
   "metadata": {},
   "source": [
    "We use your implementation provided above to compute several performance metrics. There are various metrics that are used widely in the evaluation of machine learning techniques. We recall 5 of these from the lecture:\n",
    "\n",
    "The True Positive Rate (TPR), also called sensitivity, measures the proportion of actual positives that are correctly identified as such.\n",
    "$$\\text{TPR} = \\frac{\\text{TP}}{\\text{TP}+\\text{FN}} = 1-\\text{FNR}$$\n",
    "\n",
    "The True Negative Rate (TNR), also called specificity, measures the proportion of actual negatives that are correctly identified as such.\n",
    "$$\\text{TNR} = \\frac{\\text{TN}}{\\text{TN}+\\text{FP}} = 1-\\text{FPR}$$\n",
    "\n",
    "The False Positive Rate (FPR), measures the proportion of actual negatives that are identified as positives. If a NIDS has a high FPR, it will not find malicious software, making it useless.\n",
    "$$\\text{FPR} = \\frac{\\text{FP}}{\\text{TN}+\\text{FP}} = 1-\\text{TNR}$$\n",
    "\n",
    "The False Negative Rate (FNR), measures the proportion of actual positives that are identified as negatives. If a NIDS has a high FNR, it will raise alarms for benign network traffic, causing a lot of frustration for the people on the network.\n",
    "$$\\text{FNR} = \\frac{\\text{FN}}{\\text{TP}+\\text{FN}} = 1-\\text{TPR}$$\n",
    "\n",
    "The Accuracy (ACC) combines the TPR and FPR to get a complete overview of the system performance. An accuracy of 1.0 means everything is correctly classified. An accuracy of 0.0 means nothing is correctly classified.\n",
    "$$\\text{ACC} = \\frac{\\text{TP}+\\text{TN}}{\\text{TP}+\\text{TN}+\\text{FP}+\\text{FN}}$$\n",
    "\n",
    "Additionally, you will also often encounter the [Precision, recall](https://en.wikipedia.org/wiki/Precision_and_recall) and [F1-score](https://en.wikipedia.org/wiki/F-score). The precision gives the ratio of 'how many selected items are relevant' and the recall gives the ratio of 'how many relevant items are selected'. The F1-score gives the harmonic mean between precision and recall and is often used in place of the accuracy. For reference, the formulas for all three metrics are given below.\n",
    "\n",
    "$$\\text{Precision} = \\frac{\\text{TP}}{\\text{TP}+\\text{FP}}$$\n",
    "\n",
    "$$\\text{Recall} = \\text{TPR} = \\frac{\\text{TP}}{\\text{TP}+\\text{FN}}$$\n",
    "\n",
    "$$\\text{F1-score} = 2 \\cdot \\frac{\\text{Precision} \\cdot \\text{Recall}}{\\text{Precision} + \\text{Recall}} = \\frac{2 \\text{TP}}{2 \\text{TP} + \\text{FP} + \\text{FN}}$$\n",
    "\n",
    "We compute these metrics based on your True Positive, True Negative, False Positive, and False Negative implementations."
   ]
  },
  {
   "cell_type": "markdown",
   "metadata": {},
   "source": [
    "## 5. Classifier\n",
    "Now that we have prepared the data and implemented some of the evaluation metrics, we are ready to create our Network Intrusion Detection System (NIDS). To this end, we will use the [OneClassSVM](https://scikit-learn.org/stable/modules/generated/sklearn.svm.OneClassSVM.html) implementation from the scikit-learn library. This model uses the `fit()` method with train data of known classes to learn its model. Subsequently it will use the method `predict()` with test data as +1 if they fit the known model, or -1 if they are considered anomalous.\n",
    "\n",
    "**Question 5.1.** We import the One-class SVM from [Scikit-Learn - OneClassSVM](https://scikit-learn.org/stable/modules/generated/sklearn.svm.OneClassSVM.html). Given this class, initialize it with different parameters and run the subsequent code to fit and predict our training and testing data. Try to get the best performance by adjusting the `kernel`, `gamma` and `nu` values.\n",
    "\n",
    "**NB**: The OneClassSVM implementation of scikit-learn uses the `gamma` parameter for the RBF kernel, which in this library is defined as $\\gamma = \\frac{1}{2\\sigma^2}$. This changes the kernel function from\n",
    "$K(X, Y) = e^{-\\frac{||x - y||^2}{2\\sigma^2}}$ to $K(X, Y) = e^{-\\gamma||x - y||^2}$.\n",
    "\n",
    "_Hint 1: You may notice the performance is not that good. If that is the case, go back to the `assignment.get_split()` method and change the parameters with different values for `ratio` and `apps_train`._\n",
    "\n",
    "_Hint 2: From your answer at question 2.2, you should be able to explain why some combinations of training versus test app combinations give bad results._"
   ]
  },
  {
   "cell_type": "code",
   "execution_count": 92,
   "metadata": {},
   "outputs": [
    {
     "name": "stdout",
     "output_type": "stream",
     "text": [
      "\n",
      "Prediction report\n",
      "-----------------\n",
      "True  Positive Rate (TPR) = 0.077540\n",
      "True  Negative Rate (TNR) = 0.936223\n",
      "False Positive Rate (FPR) = 0.063777\n",
      "False Negative Rate (FNR) = 0.922460\n",
      "Accuracy            (ACC) = 0.459655\n",
      "\n",
      "Precision                 = 0.602597\n",
      "Recall                    = 0.077540\n",
      "F1-score                  = 0.137400\n",
      "\n"
     ]
    }
   ],
   "source": [
    "from sklearn.svm import OneClassSVM\n",
    "\n",
    "assignment.NIDS = OneClassSVM(\n",
    "    kernel =   'rbf',\n",
    "    gamma  =   3,\n",
    "    nu     =   0.001,\n",
    ")\n",
    "\n",
    "\n",
    "\n",
    "# This code fits the NIDS using the training data X_train\n",
    "assignment.NIDS.fit(X_train)\n",
    "# This code lets the NIDS predict the test data X_test\n",
    "y_pred = assignment.NIDS.predict(X_test)\n",
    "\n",
    "# We evaluate the prediction y_pred and compare it with the actual values y_test\n",
    "assignment.prediction_report(y_test, y_pred)"
   ]
  },
  {
   "cell_type": "markdown",
   "metadata": {},
   "source": [
    "## 6. Submission\n",
    "If you played around with different combinations of training and testing data and selected good parameter values for your OneClassSVM, you can submit your assignment which will be evaluated on the `data/unknown.csv` data. Please fill out your `student_number` and `highscore_name`. To pass you will need to achieve an Accuracy $\\geq$ 0.9 and a False Positive Rate of $\\leq$ 0.05. \n",
    "\n",
    "_Hint: If you cannot seem to get a good performance, perhaps the features that you have chosen for your NIDS in the `extract()` method need to be improved, or the model parameters that you have chosen for the `OneClassSVM` are not suitable for the NIDS_\n",
    "\n",
    "**Important notices:**\n",
    " 1. The `submit` function evaluates the performance of your NIDS on the `data/unknown.csv` data. Note that this dataset is different from the data you tested with in question 5.1. Therefore, the performance of your NIDS may differ. If you are unable to achieve a good performance, you may have overfitted your NIDS on the training data.\n",
    " 2. We store your submissions on our server and these values will be used to check if you passed the assignment or not. Therefore, make sure that you submit your prediction correctly using the `assignment.submit()` method. If any error occurs, the error message will be printed. If you are unable to fix these error messages, please contact the TA at [t.s.vanede@utwente.nl](mailto:t.s.vanede@utwente.nl).\n",
    " 3. The `assignment.submit()` method requires internet access.\n",
    " 4. This assignment is graded individually. Please use your actual student number, e.g. `s1234567` and only your own student number. We log each sign of misconduct.\n",
    " 5. If you want to participate in the highscores, please provide a `highscore_name`. If you **do not** want to participate in the highscores please set this field to `None`. You can check the highscores at [vm-thijs.ewi.utwente.nl/ml/](https://vm-thijs.ewi.utwente.nl/ml/)."
   ]
  },
  {
   "cell_type": "code",
   "execution_count": 93,
   "metadata": {},
   "outputs": [
    {
     "name": "stdout",
     "output_type": "stream",
     "text": [
      "\n",
      "Prediction report\n",
      "-----------------\n",
      "True  Positive Rate (TPR) = 0.351663\n",
      "True  Negative Rate (TNR) = 0.997971\n",
      "False Positive Rate (FPR) = 0.002029\n",
      "False Negative Rate (FNR) = 0.648337\n",
      "Accuracy            (ACC) = 0.901350\n",
      "\n",
      "Precision                 = 0.968224\n",
      "Recall                    = 0.351663\n",
      "F1-score                  = 0.515936\n",
      "\n",
      "You have passed the assignment!\n"
     ]
    }
   ],
   "source": [
    "# Fill in your credentials to submit the assignment.\n",
    "assignment.submit(\n",
    "    student_number = \"s2261065\",\n",
    "    highscore_name = \"Anthony\",\n",
    ")"
   ]
  },
  {
   "cell_type": "markdown",
   "metadata": {},
   "source": [
    "## 7. Optimisation (optional)\n",
    "If you passed the assignment, you can try to improve your performance by selecting different features and optimizing the `gamma` and `nu` values of your `OneClassSVM`. However, there are also other methods we can explore. Consider a benign application $B$ that only runs on our server with IP address `10.0.0.1`. We are able to detect this application in the network traffic using our previous NIDS. Now consider a malicious application $M$ that behaves very similar to application $B$, so much, that our NIDS would be unable to distinguish application $B$ from application $M$. As we have seen in question 2.2, this is something that will occur in practice.\n",
    "\n",
    "As a partial solution, we can try to create a more fine-grained NIDS that does not make a single model for all traffic on the network, but instead create a model **per device**. This way, if malicious application $M$ infects any of our desktop machines `10.0.0.2-4`, we would still be able to detect that there is a new application running. This solution is not full proof, because this new NIDS would still not be able to detect application $M$ on the server `10.0.0.1`. Nevertheless, it is a slight improvement on our original NIDS design.\n",
    "\n",
    "**Question 7.1. (optional)** Create the NIDS described above by implementing the DeviceNIDS class. This class should support the `fit(self, X)` and `predict(self, X)` methods that take a scaled feature matrix `X` to fit and predict, respectively."
   ]
  },
  {
   "cell_type": "code",
   "execution_count": 17,
   "metadata": {},
   "outputs": [
    {
     "name": "stderr",
     "output_type": "stream",
     "text": [
      "c:\\python38\\lib\\site-packages\\ipykernel\\ipkernel.py:283: DeprecationWarning: `should_run_async` will not call `transform_cell` automatically in the future. Please pass the result to `transformed_cell` argument and any exception that happen during thetransform in `preprocessing_exc_tuple` in IPython 7.17 and above.\n",
      "  and should_run_async(code)\n"
     ]
    },
    {
     "ename": "TypeError",
     "evalue": "int() argument must be a string, a bytes-like object or a number, not 'NoneType'",
     "output_type": "error",
     "traceback": [
      "\u001b[1;31m---------------------------------------------------------------------------\u001b[0m",
      "\u001b[1;31mTypeError\u001b[0m                                 Traceback (most recent call last)",
      "\u001b[1;32m<ipython-input-17-9ade06bee76d>\u001b[0m in \u001b[0;36m<module>\u001b[1;34m\u001b[0m\n\u001b[0;32m     27\u001b[0m \u001b[1;33m\u001b[0m\u001b[0m\n\u001b[0;32m     28\u001b[0m \u001b[1;31m# Fill in your credentials to submit the assignment.\u001b[0m\u001b[1;33m\u001b[0m\u001b[1;33m\u001b[0m\u001b[1;33m\u001b[0m\u001b[0m\n\u001b[1;32m---> 29\u001b[1;33m assignment.submit(\n\u001b[0m\u001b[0;32m     30\u001b[0m     \u001b[0mstudent_number\u001b[0m \u001b[1;33m=\u001b[0m \u001b[1;34m\"<your_student_number>\"\u001b[0m\u001b[1;33m,\u001b[0m\u001b[1;33m\u001b[0m\u001b[1;33m\u001b[0m\u001b[0m\n\u001b[0;32m     31\u001b[0m     \u001b[0mhighscore_name\u001b[0m \u001b[1;33m=\u001b[0m \u001b[1;34m\"<your_highscore_name>\"\u001b[0m\u001b[1;33m,\u001b[0m\u001b[1;33m\u001b[0m\u001b[1;33m\u001b[0m\u001b[0m\n",
      "\u001b[1;32m~\\Downloads\\ml4sec_assignment_students_2\\ml4sec\\submit.py\u001b[0m in \u001b[0;36msubmit\u001b[1;34m(self, student_number, highscore_name)\u001b[0m\n\u001b[0;32m     38\u001b[0m \u001b[1;33m\u001b[0m\u001b[0m\n\u001b[0;32m     39\u001b[0m     \u001b[1;31m# Cast prediction to list of integers\u001b[0m\u001b[1;33m\u001b[0m\u001b[1;33m\u001b[0m\u001b[1;33m\u001b[0m\u001b[0m\n\u001b[1;32m---> 40\u001b[1;33m     \u001b[0mprediction\u001b[0m \u001b[1;33m=\u001b[0m \u001b[0mnp\u001b[0m\u001b[1;33m.\u001b[0m\u001b[0masarray\u001b[0m\u001b[1;33m(\u001b[0m\u001b[0mprediction\u001b[0m\u001b[1;33m,\u001b[0m \u001b[0mdtype\u001b[0m\u001b[1;33m=\u001b[0m\u001b[0mint\u001b[0m\u001b[1;33m)\u001b[0m\u001b[1;33m.\u001b[0m\u001b[0mtolist\u001b[0m\u001b[1;33m(\u001b[0m\u001b[1;33m)\u001b[0m\u001b[1;33m\u001b[0m\u001b[1;33m\u001b[0m\u001b[0m\n\u001b[0m\u001b[0;32m     41\u001b[0m \u001b[1;33m\u001b[0m\u001b[0m\n\u001b[0;32m     42\u001b[0m     \u001b[1;31m# Create JSON data to send\u001b[0m\u001b[1;33m\u001b[0m\u001b[1;33m\u001b[0m\u001b[1;33m\u001b[0m\u001b[0m\n",
      "\u001b[1;32mc:\\python38\\lib\\site-packages\\numpy\\core\\_asarray.py\u001b[0m in \u001b[0;36masarray\u001b[1;34m(a, dtype, order)\u001b[0m\n\u001b[0;32m     81\u001b[0m \u001b[1;33m\u001b[0m\u001b[0m\n\u001b[0;32m     82\u001b[0m     \"\"\"\n\u001b[1;32m---> 83\u001b[1;33m     \u001b[1;32mreturn\u001b[0m \u001b[0marray\u001b[0m\u001b[1;33m(\u001b[0m\u001b[0ma\u001b[0m\u001b[1;33m,\u001b[0m \u001b[0mdtype\u001b[0m\u001b[1;33m,\u001b[0m \u001b[0mcopy\u001b[0m\u001b[1;33m=\u001b[0m\u001b[1;32mFalse\u001b[0m\u001b[1;33m,\u001b[0m \u001b[0morder\u001b[0m\u001b[1;33m=\u001b[0m\u001b[0morder\u001b[0m\u001b[1;33m)\u001b[0m\u001b[1;33m\u001b[0m\u001b[1;33m\u001b[0m\u001b[0m\n\u001b[0m\u001b[0;32m     84\u001b[0m \u001b[1;33m\u001b[0m\u001b[0m\n\u001b[0;32m     85\u001b[0m \u001b[1;33m\u001b[0m\u001b[0m\n",
      "\u001b[1;31mTypeError\u001b[0m: int() argument must be a string, a bytes-like object or a number, not 'NoneType'"
     ]
    }
   ],
   "source": [
    "class DeviceNIDS(object):\n",
    "    \n",
    "    def __init__(self):\n",
    "        # The code between this text should be implemented\n",
    "        self.classifiers = {\n",
    "            '10.0.0.1': OneClassSVM(kernel=\"<your_kernel>\", gamma=\"<your_gamma>\", nu=\"<your_nu>\"),\n",
    "            '10.0.0.2': OneClassSVM(kernel=\"<your_kernel>\", gamma=\"<your_gamma>\", nu=\"<your_nu>\"),\n",
    "            '10.0.0.3': OneClassSVM(kernel=\"<your_kernel>\", gamma=\"<your_gamma>\", nu=\"<your_nu>\"),\n",
    "            '10.0.0.4': OneClassSVM(kernel=\"<your_kernel>\", gamma=\"<your_gamma>\", nu=\"<your_nu>\"),\n",
    "        }\n",
    "        # The code between this text should be implemented\n",
    "    \n",
    "    def fit(self, X):\n",
    "        # The code between this text should be implemented\n",
    "        pass\n",
    "        # The code between this text should be implemented\n",
    "    \n",
    "    def predict(self, X):\n",
    "        # The code between this text should be implemented\n",
    "        pass\n",
    "        # The code between this text should be implemented\n",
    "        \n",
    "    \n",
    "    \n",
    "# Set the NIDS to the newly implemented DeviceNIDS\n",
    "assignment.NIDS = DeviceNIDS()\n",
    "\n",
    "# Fill in your credentials to submit the assignment.\n",
    "assignment.submit(\n",
    "    student_number = \"<your_student_number>\",\n",
    "    highscore_name = \"<your_highscore_name>\",\n",
    ")"
   ]
  },
  {
   "cell_type": "code",
   "execution_count": null,
   "metadata": {},
   "outputs": [],
   "source": []
  },
  {
   "cell_type": "code",
   "execution_count": null,
   "metadata": {},
   "outputs": [],
   "source": []
  }
 ],
 "metadata": {
  "kernelspec": {
   "display_name": "Python 3",
   "language": "python",
   "name": "python3"
  },
  "language_info": {
   "codemirror_mode": {
    "name": "ipython",
    "version": 3
   },
   "file_extension": ".py",
   "mimetype": "text/x-python",
   "name": "python",
   "nbconvert_exporter": "python",
   "pygments_lexer": "ipython3",
   "version": "3.8.3"
  }
 },
 "nbformat": 4,
 "nbformat_minor": 4
}
